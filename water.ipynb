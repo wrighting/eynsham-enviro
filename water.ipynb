{
 "metadata": {
  "language_info": {
   "codemirror_mode": {
    "name": "ipython",
    "version": 3
   },
   "file_extension": ".py",
   "mimetype": "text/x-python",
   "name": "python",
   "nbconvert_exporter": "python",
   "pygments_lexer": "ipython3",
   "version": "3.8.6-final"
  },
  "orig_nbformat": 2,
  "kernelspec": {
   "name": "python38664bitenv01condad27a2cde311e495a8eb1380044b9595b",
   "display_name": "Python 3.8.6 64-bit ('env-01': conda)",
   "language": "python"
  }
 },
 "nbformat": 4,
 "nbformat_minor": 2,
 "cells": [
  {
   "cell_type": "code",
   "execution_count": null,
   "metadata": {},
   "outputs": [],
   "source": [
    "#!pip install matplotlib pandas openpyxl\n",
    "#!conda install -y -c conda-forge pandas matplotlib xlrd openpyxl"
   ]
  },
  {
   "cell_type": "code",
   "execution_count": null,
   "metadata": {},
   "outputs": [],
   "source": [
    "import os\n",
    "import pandas as pd # data processing, CSV file I/O (e.g. pd.read_csv)\n",
    "import matplotlib.pyplot as plt\n",
    "\n"
   ]
  },
  {
   "cell_type": "code",
   "execution_count": null,
   "metadata": {},
   "outputs": [],
   "source": [
    "raw_data = pd.read_excel(os.path.join('water','waterreadings.xlsx'), index_col=[0], engine='openpyxl', sheet_name=None)\n",
    "\n"
   ]
  },
  {
   "cell_type": "code",
   "execution_count": null,
   "metadata": {},
   "outputs": [],
   "source": [
    "all_data = pd.concat(raw_data)"
   ]
  },
  {
   "cell_type": "code",
   "execution_count": null,
   "metadata": {},
   "outputs": [],
   "source": [
    "all_data.index.names = (['date', 'Location'])\n",
    "all_data.index.names "
   ]
  },
  {
   "cell_type": "code",
   "execution_count": null,
   "metadata": {},
   "outputs": [],
   "source": [
    "site = 'Station Road Chilbrook (2)'\n",
    "fig = 0\n",
    "for column in all_data.columns:\n",
    "    #print(column)\n",
    "    for site in all_data.index.get_level_values('Location').unique():\n",
    "        values = all_data.loc[(slice(None), site), :][column].dropna().to_frame()\n",
    "    #print(values)\n",
    "        values.reset_index(inplace=True)\n",
    "    #values.info()\n",
    "    #values.set_index('date', inplace=True)\n",
    "        values['date'] = pd.to_datetime(values['date'], format='%d-%m-%Y', errors='coerce')\n",
    "        values.set_index('date', inplace=True)\n",
    "        plt.figure(fig)\n",
    "    #print(values[column])\n",
    "        values[column] = pd.to_numeric(values[column], errors='coerce')\n",
    "    # values = values[values[column].apply(lambda x: x.isnumeric())]\n",
    "\n",
    "        values[column].plot(figsize=(20,10), label=site)\n",
    "        plt.xlabel('Date')\n",
    "        plt.ylabel(column)\n",
    "    plt.legend()\n",
    "    fig += 1\n",
    "\n"
   ]
  }
 ]
}